{
 "cells": [
  {
   "cell_type": "code",
   "execution_count": 1,
   "id": "ab7426b5-ed3d-4549-9166-207aa68e6471",
   "metadata": {},
   "outputs": [],
   "source": [
    "from owlready2 import *\n",
    "\n",
    "# Load the ontology file\n",
    "ontology = get_ontology(\"its2v1.owl\").load()\n"
   ]
  },
  {
   "cell_type": "code",
   "execution_count": 2,
   "id": "66032e06-4171-4cdc-913d-ed2ee8688884",
   "metadata": {},
   "outputs": [],
   "source": [
    "onto = get_ontology(\"http://www.semanticweb.org/madoluwagemado_ysj/ontologies/2024/11/untitled-ontology-5#\").load()\n"
   ]
  },
  {
   "cell_type": "code",
   "execution_count": 5,
   "id": "39b4268b-a5dc-466a-9221-4147c8ad1a4b",
   "metadata": {},
   "outputs": [
    {
     "name": "stdout",
     "output_type": "stream",
     "text": [
      "None\n"
     ]
    }
   ],
   "source": [
    "print(ontology[\"IT\"])"
   ]
  },
  {
   "cell_type": "code",
   "execution_count": 6,
   "id": "0055d68d-d7b9-4b47-a9bb-225ee899eb23",
   "metadata": {},
   "outputs": [
    {
     "name": "stdout",
     "output_type": "stream",
     "text": [
      "<generator object _GraphManager.classes at 0x0000016F800A0AD0>\n"
     ]
    }
   ],
   "source": [
    "print(ontology.classes())"
   ]
  },
  {
   "cell_type": "code",
   "execution_count": 7,
   "id": "90ea7092-cf75-40c2-9221-64e0b1c5f11a",
   "metadata": {},
   "outputs": [
    {
     "name": "stdout",
     "output_type": "stream",
     "text": [
      "Ontology IRI: http://www.semanticweb.org/madoluwagemado_ysj/ontologies/2024/11/untitled-ontology-5#\n",
      "Classes in the ontology:\n",
      " - Rectangle\n",
      " - Triangle\n",
      " - Courses\n",
      " - Shapes\n",
      " - Learners\n",
      " - Tutors\n",
      " - Person\n",
      " - IT\n",
      " - Maths\n",
      " - Circle\n",
      "Object properties in the ontology:\n",
      " - canCalculateAreaOf\n",
      " - studies\n",
      " - teaches\n",
      "Data properties in the ontology:\n",
      " - radius\n",
      " - width\n",
      " - userType\n",
      " - height\n",
      " - userId\n",
      " - userName\n",
      " - base\n",
      " - length\n",
      "Individuals in the ontology:\n",
      " - IT102\n",
      " - IT101\n",
      " - Triangle1\n",
      " - Tutor2\n",
      " - Tutor1\n",
      " - Circle1\n",
      " - Learner1\n",
      " - MA102\n",
      " - Learner2\n",
      " - MA101\n",
      " - Rectangle1\n"
     ]
    }
   ],
   "source": [
    "# Display ontology information\n",
    "print(f\"Ontology IRI: {ontology.base_iri}\")\n",
    "print(f\"Classes in the ontology:\")\n",
    "for cls in ontology.classes():\n",
    "    print(f\" - {cls.name}\")\n",
    "\n",
    "print(f\"Object properties in the ontology:\")\n",
    "for prop in ontology.object_properties():\n",
    "    print(f\" - {prop.name}\")\n",
    "\n",
    "print(f\"Data properties in the ontology:\")\n",
    "for prop in ontology.data_properties():\n",
    "    print(f\" - {prop.name}\")\n",
    "\n",
    "print(f\"Individuals in the ontology:\")\n",
    "for ind in ontology.individuals():\n",
    "    print(f\" - {ind.name}\")"
   ]
  },
  {
   "cell_type": "code",
   "execution_count": 8,
   "id": "ef99cd60-9597-4a62-9a78-8c40bb7287dc",
   "metadata": {},
   "outputs": [],
   "source": [
    "def get_students_with_studies():\n",
    "    # Find the 'studies' object property\n",
    "    studies_property = ontology.search_one(iri=\"*studies\")  # Adjust the IRI if needed\n",
    "    \n",
    "    if not studies_property:\n",
    "        print(\"The 'studies' property was not found in the ontology.\")\n",
    "        return\n",
    "    \n",
    "    # Find all students and their associated subjects\n",
    "    print(\"Students and their subjects:\")\n",
    "    for student in ontology.search(type=ontology.search_one(iri=\"*Learners\")):\n",
    "        subjects = student.studies  # Access the 'studies' object property\n",
    "        if subjects:\n",
    "            print(f\"Student: {student.name}\")          \n",
    "            print(f\"Subjects: {student.studies}\")\n",
    "\n",
    "            "
   ]
  },
  {
   "cell_type": "code",
   "execution_count": 9,
   "id": "58eb00f3-caf5-488f-8519-b227cf8dfa85",
   "metadata": {},
   "outputs": [
    {
     "name": "stdout",
     "output_type": "stream",
     "text": [
      "Students and their subjects:\n",
      "Student: Learner1\n",
      "Subjects: [its.MA101, its.MA102]\n",
      "Student: Learner2\n",
      "Subjects: [its.IT101, its.IT102]\n"
     ]
    }
   ],
   "source": [
    "get_students_with_studies()\n",
    "  "
   ]
  },
  {
   "cell_type": "code",
   "execution_count": 10,
   "id": "902ba9dc-b2df-4445-82dc-41cc29456300",
   "metadata": {},
   "outputs": [
    {
     "name": "stdout",
     "output_type": "stream",
     "text": [
      "[10.0]\n",
      "[60.0]\n"
     ]
    }
   ],
   "source": [
    "    shape_instance = ontology.search_one(iri=\"*Rectangle1\")  # Adjust the IRI if needed\n",
    "    print(shape_instance.width)\n",
    "    print(shape_instance.length)\n"
   ]
  },
  {
   "cell_type": "code",
   "execution_count": 11,
   "id": "bb2c45a1-c390-454a-b215-c54eafe230de",
   "metadata": {},
   "outputs": [
    {
     "name": "stdout",
     "output_type": "stream",
     "text": [
      "None\n"
     ]
    }
   ],
   "source": [
    "print (ontology.Rectangle)"
   ]
  },
  {
   "cell_type": "code",
   "execution_count": 12,
   "id": "d562cc81-d9cf-4849-aaae-bea2a7516ffa",
   "metadata": {},
   "outputs": [
    {
     "ename": "NameError",
     "evalue": "name 'rectangle_class' is not defined",
     "output_type": "error",
     "traceback": [
      "\u001b[1;31m---------------------------------------------------------------------------\u001b[0m",
      "\u001b[1;31mNameError\u001b[0m                                 Traceback (most recent call last)",
      "Cell \u001b[1;32mIn[12], line 1\u001b[0m\n\u001b[1;32m----> 1\u001b[0m \u001b[38;5;28mprint\u001b[39m(rectangle_class)\n",
      "\u001b[1;31mNameError\u001b[0m: name 'rectangle_class' is not defined"
     ]
    }
   ],
   "source": [
    "\n",
    "\n",
    "\n",
    "print(rectangle_class)"
   ]
  },
  {
   "cell_type": "code",
   "execution_count": 13,
   "id": "1537bb71-b2cf-4a43-8fed-683f2ac6ba75",
   "metadata": {},
   "outputs": [
    {
     "name": "stdout",
     "output_type": "stream",
     "text": [
      "\n",
      "Student: Learner1\n",
      "Subjects: MA101, MA102\n",
      "Area Shapes: ['Rectangle1']\n",
      "Rectangle1 is a Rectangle with Width: 10.0, Length: 60.0, Area: 600.0\n",
      "\n",
      "Student: Learner2\n",
      "Subjects: IT101, IT102\n",
      "Area Shapes: ['Circle1', 'Triangle1']\n",
      "Circle1 is a Circle with Radius: 30.0, Area: 2827.43\n",
      "Triangle1 is a Triangle with Base: 54.0, Height: 65.0, Area: 1755.0\n"
     ]
    }
   ],
   "source": [
    "import math\n",
    "\n",
    "# Load the ontology\n",
    "\n",
    "# Search for the shape classes\n",
    "rectangle_class = ontology.search_one(iri=\"*Rectangle\")\n",
    "circle_class = ontology.search_one(iri=\"*Circle\")\n",
    "triangle_class = ontology.search_one(iri=\"*Triangle\")\n",
    "learner_class = ontology.search_one(iri=\"*Learners\")  # Assuming the Learners class exists in the ontology\n",
    "\n",
    "# Iterate over all learners\n",
    "for student in ontology.search(type=learner_class):\n",
    "    # Retrieve associated shapes and subjects\n",
    "    shapes = student.canCalculateAreaOf\n",
    "    subjects = student.studies\n",
    "\n",
    "    # Display learner information\n",
    "    if subjects:\n",
    "        print(f\"\\nStudent: {student.name}\")    \n",
    "        print(f\"Subjects: {', '.join([sub.name for sub in subjects])}\")\n",
    "        print(f\"Area Shapes: {[shape.name for shape in shapes]}\")\n",
    "\n",
    "        # Check the type of each associated shape and calculate the area\n",
    "        for shape in shapes:\n",
    "            if rectangle_class in shape.is_a:\n",
    "                # Access data properties\n",
    "                width = shape.width[0] if shape.width else None\n",
    "                length = shape.length[0] if shape.length else None\n",
    "                \n",
    "                # Calculate and display area if data is available\n",
    "                if width is not None and length is not None:\n",
    "                    area = width * length\n",
    "                    print(f\"{shape.name} is a Rectangle with Width: {width}, Length: {length}, Area: {area}\")\n",
    "                else:\n",
    "                    print(f\"{shape.name} is a Rectangle, but missing dimensions.\")\n",
    "            \n",
    "            elif circle_class in shape.is_a:\n",
    "                # Access data properties\n",
    "                radius = shape.radius[0] if shape.radius else None\n",
    "                \n",
    "                # Calculate and display area if data is available\n",
    "                if radius is not None:\n",
    "                    area = math.pi * (radius ** 2)\n",
    "                    print(f\"{shape.name} is a Circle with Radius: {radius}, Area: {area:.2f}\")\n",
    "                else:\n",
    "                    print(f\"{shape.name} is a Circle, but missing radius.\")\n",
    "            \n",
    "            elif triangle_class in shape.is_a:\n",
    "                # Access data properties\n",
    "                base = shape.base[0] if shape.base else None\n",
    "                height = shape.height[0] if shape.height else None\n",
    "                \n",
    "                # Calculate and display area if data is available\n",
    "                if base is not None and height is not None:\n",
    "                    area = 0.5 * base * height\n",
    "                    print(f\"{shape.name} is a Triangle with Base: {base}, Height: {height}, Area: {area}\")\n",
    "                else:\n",
    "                    print(f\"{shape.name} is a Triangle, but missing dimensions.\")\n",
    "            \n",
    "            else:\n",
    "                print(f\"{shape.name} is of an unknown type.\")\n"
   ]
  },
  {
   "cell_type": "code",
   "execution_count": null,
   "id": "b6b8edd2-91c7-4ba4-8ddb-f0d5457807a3",
   "metadata": {},
   "outputs": [],
   "source": []
  }
 ],
 "metadata": {
  "kernelspec": {
   "display_name": "Python 3 (ipykernel)",
   "language": "python",
   "name": "python3"
  },
  "language_info": {
   "codemirror_mode": {
    "name": "ipython",
    "version": 3
   },
   "file_extension": ".py",
   "mimetype": "text/x-python",
   "name": "python",
   "nbconvert_exporter": "python",
   "pygments_lexer": "ipython3",
   "version": "3.12.4"
  }
 },
 "nbformat": 4,
 "nbformat_minor": 5
}
